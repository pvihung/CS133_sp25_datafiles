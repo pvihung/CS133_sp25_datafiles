{
  "nbformat": 4,
  "nbformat_minor": 0,
  "metadata": {
    "colab": {
      "provenance": [],
      "include_colab_link": true
    },
    "kernelspec": {
      "name": "python3",
      "display_name": "Python 3"
    },
    "language_info": {
      "name": "python"
    }
  },
  "cells": [
    {
      "cell_type": "markdown",
      "metadata": {
        "id": "view-in-github",
        "colab_type": "text"
      },
      "source": [
        "<a href=\"https://colab.research.google.com/github/pvihung/CS133_sp25_datafiles/blob/main/Hung_Pham_Colab01_github.ipynb\" target=\"_parent\"><img src=\"https://colab.research.google.com/assets/colab-badge.svg\" alt=\"Open In Colab\"/></a>"
      ]
    },
    {
      "cell_type": "markdown",
      "source": [
        "# Let's start with Markdown language\n",
        "First thing first, let's learn some Markdown language. These cells are good for making comments and documenting your notebook."
      ],
      "metadata": {
        "id": "CvtLbwsWPcB2"
      }
    },
    {
      "cell_type": "markdown",
      "source": [
        "### This is an example of different levels in Markdown language\n",
        "- level 1\n",
        "    - level 2\n",
        "    - level 2\n",
        "        * level 3\n",
        "___\n",
        "### Here is how we display different type style in Markdown language\n",
        "**This is bold**\n",
        "\n",
        "_This is italic_\n",
        "\n",
        "> Hello\n",
        "\n",
        "This is an example of print `print(\"Hello World\")`\n",
        "\n",
        "___\n",
        "### You can also display math symbol using `$$`\n",
        "$y = \\sqrt{k}$ + $x^2$ - $sin(y)$\n"
      ],
      "metadata": {
        "id": "1Lx0pTVGPo71"
      }
    },
    {
      "cell_type": "markdown",
      "source": [
        "## Class Exercise CL1.1\n",
        "### Now it's your turn, try to create a text cell and play around with different Markdown symbols\n",
        "   - Create a text/markdown cell and enter some text\n",
        "   - Create a header using #, subheaders have more consecutive # signs\n",
        "   - Create bullet points using -, +, or * (create sublist by adding 4 spaces before the bullet)\n",
        "   - Create a horizontal line using 3 underscores ___\n",
        "   - Bold text by enclosing the text with **\n",
        "   - Italic text by by enclosing the text with using _\n",
        "   - Create a code section by enclosing it with `\n",
        "   - Create Blockquotes using >\n",
        "   "
      ],
      "metadata": {
        "id": "xGwsRt4wRPeb"
      }
    },
    {
      "cell_type": "markdown",
      "source": [
        "### Here is your answer for CL1.1\n",
        "*Create a text box below with your answer for the above exercise*"
      ],
      "metadata": {
        "id": "4Z82hTiFRfiL"
      }
    },
    {
      "cell_type": "markdown",
      "source": [
        "Hello\n",
        "# Exercise 1.1\n",
        "- Hello\n",
        "___\n",
        "**Hello**\n",
        "_Hello_\n",
        "`hello`\n",
        "> hello\n",
        "\n"
      ],
      "metadata": {
        "id": "dpB2df-wNoeg"
      }
    },
    {
      "cell_type": "markdown",
      "source": [
        "## Class Exercise CL1.2\n",
        "Write with math symbols, the equation for variance by using \\$. Here is a good cheatsheet: http://joshua.smcvt.edu/undergradmath/undergradmath.pdf\n",
        "\n",
        "![variance.png](data:image/png;base64,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)"
      ],
      "metadata": {
        "id": "Zy2dyXx9FFsp"
      }
    },
    {
      "cell_type": "markdown",
      "source": [
        "### Here is your answer for CL1.2\n",
        "*Create a text box below with your answer for the above exercise*"
      ],
      "metadata": {
        "id": "1_AeA1zbF14D"
      }
    },
    {
      "cell_type": "markdown",
      "source": [
        "$\\sigma^2 = \\frac{\\sum(xi- \\bar{x})^2}{n-1}$"
      ],
      "metadata": {
        "id": "R_xnVmjAO7OP"
      }
    },
    {
      "cell_type": "code",
      "source": [],
      "metadata": {
        "id": "kRFpkum1p-zX"
      },
      "execution_count": null,
      "outputs": []
    },
    {
      "cell_type": "markdown",
      "source": [
        "# Getting started with Google Colab and GitHub"
      ],
      "metadata": {
        "id": "zW9-_dkYJ_T0"
      }
    },
    {
      "cell_type": "markdown",
      "source": [],
      "metadata": {
        "id": "HRldzDSfFYc6"
      }
    },
    {
      "cell_type": "code",
      "source": [
        "'''Import your libraries'''\n",
        "from google.colab import drive #mount drive\n",
        "import pandas as pd #dataframe manipulation\n",
        "from matplotlib import pyplot as plt #plot"
      ],
      "metadata": {
        "id": "croxsyzcKRi1"
      },
      "execution_count": 1,
      "outputs": []
    },
    {
      "cell_type": "code",
      "source": [
        "'''Mount your Google Drive'''\n",
        "drive.mount('/content/drive')"
      ],
      "metadata": {
        "id": "v26VSL_qK-Gp",
        "colab": {
          "base_uri": "https://localhost:8080/"
        },
        "outputId": "31e3436d-dec8-42cc-aa11-0c9875fe7973"
      },
      "execution_count": 2,
      "outputs": [
        {
          "output_type": "stream",
          "name": "stdout",
          "text": [
            "Mounted at /content/drive\n"
          ]
        }
      ]
    }
  ]
}