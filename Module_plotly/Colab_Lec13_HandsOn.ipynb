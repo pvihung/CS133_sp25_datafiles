{
  "cells": [
    {
      "cell_type": "markdown",
      "source": [
        "# Exploring OOP"
      ],
      "metadata": {
        "id": "vFp27FljzOEX"
      }
    },
    {
      "cell_type": "markdown",
      "source": [
        "### First let's revist local versus global variable when working with functions\n",
        "\n",
        "Below, when we run this code block we get an error; Why?"
      ],
      "metadata": {
        "id": "fTzcPKlDM_3q"
      }
    },
    {
      "cell_type": "code",
      "source": [
        "# global variable\n",
        "c = 1\n",
        "\n",
        "def add():\n",
        "     # increment c by 2\n",
        "    c = c + 2\n",
        "    print(c)\n",
        "\n",
        "add()"
      ],
      "metadata": {
        "colab": {
          "base_uri": "https://localhost:8080/",
          "height": 297
        },
        "id": "OVRYAUxN28_L",
        "outputId": "ae754bec-8094-4bab-9785-f1ada6ed97a9"
      },
      "execution_count": null,
      "outputs": [
        {
          "output_type": "error",
          "ename": "UnboundLocalError",
          "evalue": "cannot access local variable 'c' where it is not associated with a value",
          "traceback": [
            "\u001b[0;31m---------------------------------------------------------------------------\u001b[0m",
            "\u001b[0;31mUnboundLocalError\u001b[0m                         Traceback (most recent call last)",
            "\u001b[0;32m<ipython-input-1-88b3a8feae80>\u001b[0m in \u001b[0;36m<cell line: 0>\u001b[0;34m()\u001b[0m\n\u001b[1;32m      7\u001b[0m     \u001b[0mprint\u001b[0m\u001b[0;34m(\u001b[0m\u001b[0mc\u001b[0m\u001b[0;34m)\u001b[0m\u001b[0;34m\u001b[0m\u001b[0;34m\u001b[0m\u001b[0m\n\u001b[1;32m      8\u001b[0m \u001b[0;34m\u001b[0m\u001b[0m\n\u001b[0;32m----> 9\u001b[0;31m \u001b[0madd\u001b[0m\u001b[0;34m(\u001b[0m\u001b[0;34m)\u001b[0m\u001b[0;34m\u001b[0m\u001b[0;34m\u001b[0m\u001b[0m\n\u001b[0m",
            "\u001b[0;32m<ipython-input-1-88b3a8feae80>\u001b[0m in \u001b[0;36madd\u001b[0;34m()\u001b[0m\n\u001b[1;32m      4\u001b[0m \u001b[0;32mdef\u001b[0m \u001b[0madd\u001b[0m\u001b[0;34m(\u001b[0m\u001b[0;34m)\u001b[0m\u001b[0;34m:\u001b[0m\u001b[0;34m\u001b[0m\u001b[0;34m\u001b[0m\u001b[0m\n\u001b[1;32m      5\u001b[0m      \u001b[0;31m# increment c by 2\u001b[0m\u001b[0;34m\u001b[0m\u001b[0;34m\u001b[0m\u001b[0m\n\u001b[0;32m----> 6\u001b[0;31m     \u001b[0mc\u001b[0m \u001b[0;34m=\u001b[0m \u001b[0mc\u001b[0m \u001b[0;34m+\u001b[0m \u001b[0;36m2\u001b[0m\u001b[0;34m\u001b[0m\u001b[0;34m\u001b[0m\u001b[0m\n\u001b[0m\u001b[1;32m      7\u001b[0m     \u001b[0mprint\u001b[0m\u001b[0;34m(\u001b[0m\u001b[0mc\u001b[0m\u001b[0;34m)\u001b[0m\u001b[0;34m\u001b[0m\u001b[0;34m\u001b[0m\u001b[0m\n\u001b[1;32m      8\u001b[0m \u001b[0;34m\u001b[0m\u001b[0m\n",
            "\u001b[0;31mUnboundLocalError\u001b[0m: cannot access local variable 'c' where it is not associated with a value"
          ]
        }
      ]
    },
    {
      "cell_type": "markdown",
      "source": [
        "By adding the \"global c\" statement, you're telling Python that you want to use the c that was defined at the first line of the code block, outside of any function. This allows you to modify the global variable c inside the function without any errors."
      ],
      "metadata": {
        "id": "ujZy87b8UbYA"
      }
    },
    {
      "cell_type": "code",
      "source": [
        "# global variable\n",
        "c = 1\n",
        "\n",
        "def add():\n",
        "    # increment c by 2\n",
        "    global c\n",
        "    c = c + 2\n",
        "    print(c)\n",
        "\n",
        "add()"
      ],
      "metadata": {
        "colab": {
          "base_uri": "https://localhost:8080/"
        },
        "id": "dC1-jboFTR9z",
        "outputId": "4553cdd5-f14e-46aa-9a03-332765dcd0a9"
      },
      "execution_count": null,
      "outputs": [
        {
          "output_type": "stream",
          "name": "stdout",
          "text": [
            "3\n",
            "3\n"
          ]
        }
      ]
    },
    {
      "cell_type": "markdown",
      "source": [
        "How about below. What do you think is the output?"
      ],
      "metadata": {
        "id": "L1crOi43Xuwd"
      }
    },
    {
      "cell_type": "code",
      "source": [
        "# Initialize a global variable\n",
        "a = 5\n",
        "\n",
        "def outer():\n",
        "    # Attempt to modify the global variable\n",
        "    a = 3\n",
        "\n",
        "    def inner():\n",
        "        # Declare 'a' as global\n",
        "        global a\n",
        "        a = 10\n",
        "        print(\"In in inner function, 'a' is:\", a)\n",
        "    inner()"
      ],
      "metadata": {
        "id": "R0V3gOmKXBQ_"
      },
      "execution_count": null,
      "outputs": []
    },
    {
      "cell_type": "code",
      "source": [
        "# print(\"In outer function, 'a' is:\", a)\n",
        "# print(\"Globally, 'a' is now:\", a)\n",
        "\n",
        "# # Run outer()\n",
        "# print(\"\\nRunning outer()\")\n",
        "# outer()\n",
        "# print(\"Globally, 'a' is now:\", a)"
      ],
      "metadata": {
        "id": "JSs5L7_iz9EU"
      },
      "execution_count": null,
      "outputs": []
    },
    {
      "cell_type": "markdown",
      "metadata": {
        "id": "XVdunTDcpcUL"
      },
      "source": [
        "# Object Oriented Programming\n",
        "\n",
        "### State\n",
        "Suppose we want to model a bank account with support for deposit and withdraw operations. One way to do that is by using **global state** as shown in the following example.  \n",
        "  \n",
        "\n",
        "Here the parameters are explictly referring to the **global variable** balance which can be reached even inside the fucntion.\n",
        "\n"
      ]
    },
    {
      "cell_type": "code",
      "execution_count": null,
      "metadata": {
        "id": "YcEWyPEBpcUO",
        "colab": {
          "base_uri": "https://localhost:8080/"
        },
        "outputId": "ab7b2850-d8c8-4cfc-ba85-af04fde190d3"
      },
      "outputs": [
        {
          "output_type": "stream",
          "name": "stdout",
          "text": [
            "Initial balance is 0\n",
            "Deposited the amount of 10, the balance now is 10\n",
            "Withdrew the amount of 10, the balance now is 0\n",
            "Current balance is 0\n"
          ]
        }
      ],
      "source": [
        "balance = 0\n",
        "def deposit(amount):\n",
        "    global balance\n",
        "    balance += amount\n",
        "    return balance\n",
        "\n",
        "def withdraw(amount):\n",
        "    global balance\n",
        "    balance -= amount\n",
        "    return balance\n",
        "\n",
        "print(\"Initial balance is \"+str(balance))\n",
        "print(\"Deposited the amount of 10, the balance now is \"+str(deposit(10)))\n",
        "print(\"Withdrew the amount of 10, the balance now is \"+str(withdraw(10)))\n",
        "print(\"Current balance is \"+str(balance))"
      ]
    },
    {
      "cell_type": "markdown",
      "source": [
        "If a variable will be initialized only once in the lifetime of the program"
      ],
      "metadata": {
        "id": "bDyBDYF5Yuh6"
      }
    },
    {
      "cell_type": "markdown",
      "metadata": {
        "id": "pO70IOf0pcUR"
      },
      "source": [
        "**The above example is good enough only if we want to have just a single account**. Things start getting complicated if want to model multiple accounts.\n",
        "\n",
        "We can solve the problem by making the state local, probably by using a dictionary to store the state."
      ]
    },
    {
      "cell_type": "code",
      "execution_count": null,
      "metadata": {
        "id": "mKNYpp9kpcUR"
      },
      "outputs": [],
      "source": [
        "def make_account():\n",
        "    return {'balance': 0}\n",
        "\n",
        "def deposit(account, amount):\n",
        "    account['balance'] += amount\n",
        "    return account['balance']\n",
        "\n",
        "def withdraw(account, amount):\n",
        "    account['balance'] -= amount\n",
        "    return account['balance']"
      ]
    },
    {
      "cell_type": "code",
      "source": [
        "account = make_account()\n",
        "print(\"Initial balance is \"+str(account['balance']))\n",
        "print(\"Deposited the amount of 10, the balance now is \"+str(deposit(account, 10)))\n",
        "print(\"Withdrew the amount of 10, the balance now is \"+str(withdraw(account, 10)))\n",
        "print(\"Current balance is \"+str(account['balance']))"
      ],
      "metadata": {
        "colab": {
          "base_uri": "https://localhost:8080/"
        },
        "id": "BxVVJ-4qYrT7",
        "outputId": "c8848e8b-3622-445d-8308-27949330fc9e"
      },
      "execution_count": null,
      "outputs": [
        {
          "output_type": "stream",
          "name": "stdout",
          "text": [
            "Initial balance is 0\n",
            "Deposited the amount of 10, the balance now is 10\n",
            "Withdrew the amount of 10, the balance now is 0\n",
            "Current balance is 0\n"
          ]
        }
      ]
    },
    {
      "cell_type": "markdown",
      "metadata": {
        "id": "N2HPb2a4pcUS"
      },
      "source": [
        "With this it is possible to work with multiple accounts at the same time."
      ]
    },
    {
      "cell_type": "code",
      "execution_count": null,
      "metadata": {
        "scrolled": false,
        "id": "GZKG6RONpcUS",
        "colab": {
          "base_uri": "https://localhost:8080/"
        },
        "outputId": "e4f55c4b-0b6d-453c-b07a-2a20da54b78f"
      },
      "outputs": [
        {
          "output_type": "stream",
          "name": "stdout",
          "text": [
            "Bank account A's balance: $ 100\n",
            "Bank account B's balance: $ 50\n",
            "Bank account A's balance: $ 90\n",
            "Bank account B's balance: $ 40\n"
          ]
        }
      ],
      "source": [
        "# Create 2 accounts\n",
        "# make_account returns a dictionary\n",
        "a = make_account()\n",
        "b = make_account()\n",
        "\n",
        "# Deposit\n",
        "a_balance = deposit(a, 100)\n",
        "print(\"Bank account A's balance: $\", a_balance)\n",
        "\n",
        "b_balance = deposit(b, 50)\n",
        "print(\"Bank account B's balance: $\", b_balance)\n",
        "\n",
        "# Withdraw\n",
        "a_balance = withdraw(a, 10)\n",
        "print(\"Bank account A's balance: $\", a_balance)\n",
        "\n",
        "b_balance = withdraw(b, 10)\n",
        "print(\"Bank account B's balance: $\", b_balance)"
      ]
    },
    {
      "cell_type": "markdown",
      "source": [
        "Now we will try to import this idea to create classes"
      ],
      "metadata": {
        "id": "nW69m_smdYFY"
      }
    },
    {
      "cell_type": "markdown",
      "metadata": {
        "id": "YuEFn2VjpcUT"
      },
      "source": [
        "## Classes and Objects"
      ]
    },
    {
      "cell_type": "code",
      "execution_count": null,
      "metadata": {
        "id": "r89tPHfkpcUU"
      },
      "outputs": [],
      "source": [
        "class BankAccount:\n",
        "    def __init__(self):\n",
        "        self.balance = 0\n",
        "\n",
        "    def withdraw(self, amount):\n",
        "        self.balance -= amount\n",
        "        return self.balance\n",
        "\n",
        "    def deposit(self, amount):\n",
        "        self.balance += amount\n",
        "        return self.balance"
      ]
    },
    {
      "cell_type": "markdown",
      "source": [
        "What kind of attribute is \"balance\"?"
      ],
      "metadata": {
        "id": "48T6ZOcPdpjb"
      }
    },
    {
      "cell_type": "code",
      "execution_count": null,
      "metadata": {
        "id": "-Vusn1tXpcUU",
        "outputId": "ce6bb440-f67c-42be-9a85-dbbc68eb63b9",
        "colab": {
          "base_uri": "https://localhost:8080/"
        }
      },
      "outputs": [
        {
          "output_type": "stream",
          "name": "stdout",
          "text": [
            "Bank account A's balance: $ 100\n",
            "Bank account B's balance: $ 50\n",
            "Bank account A's balance: $ 90\n",
            "Bank account B's balance: $ 40\n"
          ]
        }
      ],
      "source": [
        "# Create two instances of BankAccount objects\n",
        "a = BankAccount()\n",
        "b = BankAccount()\n",
        "\n",
        "# Deposit\n",
        "a_balance = a.deposit(100)\n",
        "print(\"Bank account A's balance: $\", a_balance)\n",
        "b_balance = b.deposit(50)\n",
        "print(\"Bank account B's balance: $\", b_balance)\n",
        "\n",
        "# Withdraw\n",
        "a_balance = a.withdraw(10)\n",
        "print(\"Bank account A's balance: $\", a_balance)\n",
        "b_balance = b.withdraw(10)\n",
        "print(\"Bank account B's balance: $\", b_balance)"
      ]
    },
    {
      "cell_type": "markdown",
      "source": [
        "## Association\n",
        "Association represents a relationship between two classes where one class uses or interacts with another."
      ],
      "metadata": {
        "id": "GzOyHly4WuEz"
      }
    },
    {
      "cell_type": "code",
      "source": [
        "class Department:\n",
        "    def __init__(self, name):\n",
        "        self.name = name\n",
        "\n",
        "class Teacher:\n",
        "    def __init__(self, name, department):\n",
        "        self.name = name\n",
        "        self.department = department\n",
        "\n",
        "math_dept = Department(\"Mathematics\")\n",
        "mr_smith = Teacher(\"Mr. Smith\", math_dept)\n",
        "\n",
        "print(f\"{mr_smith.name} works in the {mr_smith.department.name} department.\")\n"
      ],
      "metadata": {
        "id": "CpV81S3aWxxT"
      },
      "execution_count": null,
      "outputs": []
    },
    {
      "cell_type": "markdown",
      "metadata": {
        "id": "IB1mfZ2-pcUW"
      },
      "source": [
        "## Inheritance\n",
        "Let us try to create a little more sophisticated account type where the account holder has to maintain a pre-determined minimum balance."
      ]
    },
    {
      "cell_type": "code",
      "execution_count": null,
      "metadata": {
        "id": "n1ZnWqaMpcUX"
      },
      "outputs": [],
      "source": [
        "# MinimumBalanceAccount inherits from BankAccount\n",
        "class MinimumBalanceAccount(BankAccount):\n",
        "    def __init__(self, minimum_balance):\n",
        "        BankAccount.__init__(self)\n",
        "        self.minimum_balance = minimum_balance\n",
        "\n",
        "    # This withdraw method overrides the parent class' withdraw method\n",
        "    def withdraw(self, amount):\n",
        "        if self.balance - amount < self.minimum_balance:\n",
        "            # stop the withdraw\n",
        "            print('Sorry, minimum balance must be maintained. No widthrawal happened')\n",
        "            return self.balance\n",
        "        else:\n",
        "            return BankAccount.withdraw(self, amount)"
      ]
    },
    {
      "cell_type": "code",
      "execution_count": null,
      "metadata": {
        "id": "Nz4PROZjpcUX",
        "outputId": "5a563376-d144-4057-ee39-13feb01ee1b1",
        "colab": {
          "base_uri": "https://localhost:8080/"
        }
      },
      "outputs": [
        {
          "output_type": "stream",
          "name": "stdout",
          "text": [
            "Bank account C's balance: $ 100\n",
            "Bank account C's balance: $ 90\n"
          ]
        }
      ],
      "source": [
        "# Create a MinimumBalanceAccount\n",
        "c = MinimumBalanceAccount(40)\n",
        "\n",
        "# Deposit $100\n",
        "c_balance = c.deposit(100)\n",
        "print(\"Bank account C's balance: $\", c_balance)\n",
        "\n",
        "# Withdraw $10\n",
        "c_balance = c.withdraw(10)\n",
        "print(\"Bank account C's balance: $\", c_balance)"
      ]
    },
    {
      "cell_type": "code",
      "execution_count": null,
      "metadata": {
        "scrolled": true,
        "id": "epFmTQ5vpcUY",
        "outputId": "859ad534-8870-47da-84c8-542b79d2fe5e",
        "colab": {
          "base_uri": "https://localhost:8080/"
        }
      },
      "outputs": [
        {
          "output_type": "stream",
          "name": "stdout",
          "text": [
            "Sorry, minimum balance must be maintained. No widthrawal happened\n",
            "Bank account C's balance: $ 90\n"
          ]
        }
      ],
      "source": [
        "# Withdraw $80\n",
        "c_balance = c.withdraw(80)\n",
        "print(\"Bank account C's balance: $\", c_balance)"
      ]
    },
    {
      "cell_type": "markdown",
      "metadata": {
        "id": "TxXqfOhMpcUY"
      },
      "source": [
        "## Another example of Inheritance\n",
        "\n",
        "*args (Non-Keyword Arguments)\n",
        "\n",
        "**kwargs (Keyword Arguments)\n",
        "\n",
        "Python is used to pass a variable number of arguments to a function. It is used to pass a non-keyworded and keyworded, variable-length argument list.\n",
        "\n",
        "The super() function is used to refer to the parent class or superclass. It allows you to call methods defined in the superclass from the subclass,"
      ]
    },
    {
      "cell_type": "markdown",
      "metadata": {
        "id": "0bF2Kp6UpcUZ"
      },
      "source": [
        "Our base class is `Person`, which represents any person associated with a university. We create a subclass to represent students and one to represent staff members, and then a subclass of `StaffMember` for people who teach courses (as opposed to staff members who have administrative positions.)\n",
        "\n",
        "We represent both student numbers and staff numbers by a single attribute, `id_number`, which we define in the base class, because it makes sense for us to treat them as a unified form of identification for any person. We use different attributes for the kind of student (undergraduate or postgraduate) that someone is and whether a staff member is a permanent or a temporary employee, because these are different sets of options.\n",
        "\n",
        "We have also added a method `enroll` to `Student` for enrolling a student in a course, and a method `assign_teaching` to `Lecturer` for assigning a course to be taught by a lecturer.\n",
        "\n",
        "The `__init__` method of the base class initializes all the instance variables that are common to all subclasses. In each subclass we override the `__init__` method so that we can use it to initialize that class’s attributes – but we want the parent class’s attributes to be initialized as well, so we need to call the parent’s `__init__` method from ours. To find the right method, we use the super function – when we pass in the current class and object as parameters, it will return a proxy object with the correct `__init__` method, which we can then call.\n",
        "\n",
        "In each of our overridden `__init__` methods we use those of the method’s parameters which are specific to our class inside the method, and then pass the remaining parameters to the parent class’s `__init__` method. A common convention is to add the specific parameters for each successive subclass to the beginning of the parameter list, and define all the other parameters using `*args` and `**kwargs` – then the subclass doesn’t need to know the details about the parent class’s parameters. Because of this, if we add a new parameter to the superclass’s `__init__`, we will only need to add it to all the places where we create that class or one of its subclasses – we won’t also have to update all the child class definitions to include the new parameter."
      ]
    },
    {
      "cell_type": "code",
      "execution_count": null,
      "metadata": {
        "id": "ocxySKfBpcUY"
      },
      "outputs": [],
      "source": [
        "class Person:\n",
        "  KIND = \"GOOD\"\n",
        "  def __init__(self, name, surname, id_number):\n",
        "        self.name = name\n",
        "        self.surname = surname\n",
        "        self.id_number  = id_number\n",
        "  def aboutme(self):\n",
        "        print(\"My name is \" + self.name + \" \" + self.surname + \".\")\n",
        "\n",
        "  def get_id_number(self):\n",
        "        return self.id_number\n",
        "\n",
        "\n",
        "class Student(Person):\n",
        "    Person.KIND = \"AVG\"\n",
        "    TYPE = \"student\"\n",
        "\n",
        "    def __init__(self, credits, *args, **kwargs):\n",
        "        self.credits = credits\n",
        "        super(Student, self).__init__(*args, **kwargs)\n",
        "\n",
        "    def enroll(self, credits):\n",
        "        self.credits += credits\n",
        "\n",
        "    def aboutme(self):\n",
        "        super().aboutme()\n",
        "        print(\"They are a \" + self.TYPE)\n",
        "\n",
        "\n",
        "\n",
        "\n",
        "class StaffMember(Person):\n",
        "    TYPE = \"staff\"\n",
        "\n",
        "    def __init__(self, *args, **kwargs):\n",
        "        super().__init__(*args, **kwargs)\n",
        "\n",
        "\n",
        "class Lecturer(StaffMember):\n",
        "    TYPE = \"lecturer\"\n",
        "\n",
        "    def __init__(self, courses_taught, *args, **kwargs):\n",
        "        self.courses_taught = courses_taught\n",
        "        super(StaffMember, self).__init__(*args, **kwargs)\n",
        "\n",
        "    def assign_teaching(self):\n",
        "        self.courses_taught += 1\n",
        "\n"
      ]
    },
    {
      "cell_type": "code",
      "execution_count": null,
      "metadata": {
        "id": "GDKW15twpcUZ",
        "outputId": "5db8e487-d47d-497a-f77e-b434cae3d70a",
        "colab": {
          "base_uri": "https://localhost:8080/",
          "height": 105
        }
      },
      "outputs": [
        {
          "output_type": "stream",
          "name": "stdout",
          "text": [
            "AVG\n",
            "SMTJNX045\n",
            "My name is Jane Smith.\n",
            "They are a student\n"
          ]
        },
        {
          "output_type": "execute_result",
          "data": {
            "text/plain": [
              "'SMTJNX045'"
            ],
            "application/vnd.google.colaboratory.intrinsic+json": {
              "type": "string"
            }
          },
          "metadata": {},
          "execution_count": 3
        }
      ],
      "source": [
        "# Main program\n",
        "jane = Student(50, \"Jane\", \"Smith\", \"SMTJNX045\")\n",
        "print(jane.KIND)\n",
        "print(jane.get_id_number())\n",
        "jane.aboutme()\n",
        "jane.id_number"
      ]
    },
    {
      "cell_type": "code",
      "source": [
        "nina = StaffMember(\"Nina\", \"kale\", \"SMT443212\")\n",
        "print(nina.get_id_number())\n",
        "nina.aboutme()\n",
        "nina.id_number"
      ],
      "metadata": {
        "colab": {
          "base_uri": "https://localhost:8080/",
          "height": 70
        },
        "id": "zyiToJSdhQKk",
        "outputId": "25453372-77a9-4420-aecc-6ea3f574cd81"
      },
      "execution_count": null,
      "outputs": [
        {
          "output_type": "stream",
          "name": "stdout",
          "text": [
            "SMT443212\n",
            "My name is Nina kale.\n"
          ]
        },
        {
          "output_type": "execute_result",
          "data": {
            "text/plain": [
              "'SMT443212'"
            ],
            "application/vnd.google.colaboratory.intrinsic+json": {
              "type": "string"
            }
          },
          "metadata": {},
          "execution_count": 6
        }
      ]
    },
    {
      "cell_type": "code",
      "execution_count": null,
      "metadata": {
        "id": "QqQF-YwZpcUa",
        "outputId": "85b2f8d8-8007-40aa-e462-8c11ab376917",
        "colab": {
          "base_uri": "https://localhost:8080/"
        }
      },
      "outputs": [
        {
          "output_type": "stream",
          "name": "stdout",
          "text": [
            "My name is Bob Jones.\n"
          ]
        }
      ],
      "source": [
        "bob = Lecturer(courses_taught = 2, name = \"Bob\", surname = \"Jones\", id_number = \"123456789\")\n",
        "bob.aboutme()"
      ]
    },
    {
      "cell_type": "markdown",
      "metadata": {
        "id": "GPP1BDK3pcUa"
      },
      "source": [
        "## Visibility of attributes\n",
        "You can set the visibility of the attribute to public, protect, and private.\n",
        "\n",
        "__Public:__\n",
        "All member variables and methods are public by default in Python. So when you want to make your member public, you just do nothing.\n",
        "\n",
        "__Protected:__\n",
        "Protected member is (in C++ and Java) accessible only from within the class and it’s subclasses. How to accomplish this in Python? By prefixing the name of your member with a single underscore, you’re telling others “don’t touch this, unless you’re a subclass”\n",
        "\n",
        "__Private:__\n",
        "By declaring your data member private you mean, that nobody should be able to access it from outside the class, i.e. strong you can’t touch this policy. Python supports a technique called name mangling. This feature turns every member name prefixed with at least two underscores and suffixed with at most one underscore.\n",
        "\n",
        "\n",
        "Let's re-create classes above. We will set all the attributes to private, and have a public methods that interact with the private attributes."
      ]
    },
    {
      "cell_type": "code",
      "execution_count": null,
      "metadata": {
        "id": "ZHmLrlKmpcUa"
      },
      "outputs": [],
      "source": [
        "class Person:\n",
        "    def __init__(self, name, surname, id_number):\n",
        "        self.__name = name\n",
        "        self.__surname = surname\n",
        "        self.__id_number = id_number\n",
        "\n",
        "    def aboutme(self):\n",
        "        print(\"My name is \" + self.__name + \" \" + self.__surname + \".\")\n",
        "\n",
        "    def get_id_number(self):\n",
        "        return self.__id_number\n",
        "\n",
        "\n",
        "class Student(Person):\n",
        "    __TYPE = \"student\"\n",
        "\n",
        "    def __init__(self, credits, *args, **kwargs):\n",
        "        self.__credits = credits\n",
        "        super(Student, self).__init__(*args, **kwargs)\n",
        "\n",
        "    def enroll(self, credits):\n",
        "        self.__credits += credits\n",
        "\n",
        "    def aboutme(self):\n",
        "        super().aboutme()\n",
        "        print(\"They are a \" + self.__TYPE)\n",
        "\n",
        "\n",
        "\n",
        "class StaffMember(Person):\n",
        "    __TYPE = \"staff\"\n",
        "\n",
        "    def __init__(self, *args, **kwargs):\n",
        "        super(StaffMember, self).__init__(*args, **kwargs)\n",
        "\n",
        "\n",
        "class Lecturer(StaffMember):\n",
        "    __TYPE = \"lecturer\"\n",
        "\n",
        "    def __init__(self, courses_taught, *args, **kwargs):\n",
        "        self.__courses_taught = courses_taught\n",
        "        super(Lecturer, self).__init__(*args, **kwargs)\n",
        "\n",
        "    def assign_teaching(self):\n",
        "        self.__courses_taught += 1\n"
      ]
    },
    {
      "cell_type": "code",
      "execution_count": null,
      "metadata": {
        "code_folding": [],
        "id": "Og-IenbupcUb",
        "outputId": "c1f97196-35a9-4ada-fd4c-616d43bdf70f",
        "colab": {
          "base_uri": "https://localhost:8080/",
          "height": 216
        }
      },
      "outputs": [
        {
          "output_type": "stream",
          "name": "stdout",
          "text": [
            "My name is Jane Smith.\n",
            "They are a student\n"
          ]
        },
        {
          "output_type": "error",
          "ename": "AttributeError",
          "evalue": "'Student' object has no attribute '__id_number'",
          "traceback": [
            "\u001b[0;31m---------------------------------------------------------------------------\u001b[0m",
            "\u001b[0;31mAttributeError\u001b[0m                            Traceback (most recent call last)",
            "\u001b[0;32m<ipython-input-20-f4c6f71e47a0>\u001b[0m in \u001b[0;36m<cell line: 4>\u001b[0;34m()\u001b[0m\n\u001b[1;32m      2\u001b[0m \u001b[0mjane\u001b[0m \u001b[0;34m=\u001b[0m \u001b[0mStudent\u001b[0m\u001b[0;34m(\u001b[0m\u001b[0;36m50\u001b[0m\u001b[0;34m,\u001b[0m \u001b[0;34m\"Jane\"\u001b[0m\u001b[0;34m,\u001b[0m \u001b[0;34m\"Smith\"\u001b[0m\u001b[0;34m,\u001b[0m \u001b[0;34m\"SMTJNX045\"\u001b[0m\u001b[0;34m)\u001b[0m\u001b[0;34m\u001b[0m\u001b[0;34m\u001b[0m\u001b[0m\n\u001b[1;32m      3\u001b[0m \u001b[0mjane\u001b[0m\u001b[0;34m.\u001b[0m\u001b[0maboutme\u001b[0m\u001b[0;34m(\u001b[0m\u001b[0;34m)\u001b[0m\u001b[0;34m\u001b[0m\u001b[0;34m\u001b[0m\u001b[0m\n\u001b[0;32m----> 4\u001b[0;31m \u001b[0mprint\u001b[0m\u001b[0;34m(\u001b[0m\u001b[0mjane\u001b[0m\u001b[0;34m.\u001b[0m\u001b[0m__id_number\u001b[0m\u001b[0;34m)\u001b[0m\u001b[0;34m\u001b[0m\u001b[0;34m\u001b[0m\u001b[0m\n\u001b[0m",
            "\u001b[0;31mAttributeError\u001b[0m: 'Student' object has no attribute '__id_number'"
          ]
        }
      ],
      "source": [
        "# Main program\n",
        "jane = Student(50, \"Jane\", \"Smith\", \"SMTJNX045\")\n",
        "jane.aboutme()\n",
        "print(jane.__id_number)"
      ]
    },
    {
      "cell_type": "code",
      "source": [
        "print(jane.get_id_number())"
      ],
      "metadata": {
        "id": "Wz9-_HwHTrtD"
      },
      "execution_count": null,
      "outputs": []
    },
    {
      "cell_type": "markdown",
      "source": [
        "Another example of 2 classes super and sub. this exmaple shows you the use and functionality of access modifiers in python.\n",
        "\n",
        "Great medium article: https://medium.com/geekculture/are-there-really-public-protected-and-private-access-modifiers-present-in-python-74c7b578eb19"
      ],
      "metadata": {
        "id": "mipmJEI7T2pk"
      }
    },
    {
      "cell_type": "code",
      "source": [
        "# program to illustrate access modifiers of a class\n",
        "\n",
        "# super class\n",
        "class Super:\n",
        "\n",
        "\t# public data member\n",
        "\tvar1 = None\n",
        "\n",
        "\t# protected data member\n",
        "\t_var2 = None\n",
        "\n",
        "\t# private data member\n",
        "\t__var3 = None\n",
        "\n",
        "\t# constructor\n",
        "\tdef __init__(self, var1, var2, var3):\n",
        "\t\tself.var1 = var1\n",
        "\t\tself._var2 = var2\n",
        "\t\tself.__var3 = var3\n",
        "\n",
        "\t# public member function\n",
        "\tdef displayPublicMembers(self):\n",
        "\n",
        "\t\t# accessing public data members\n",
        "\t\tprint(\"Public Data Member: \", self.var1)\n",
        "\n",
        "\t# protected member function\n",
        "\tdef _displayProtectedMembers(self):\n",
        "\n",
        "\t\t# accessing protected data members\n",
        "\t\tprint(\"Protected Data Member: \", self._var2)\n",
        "\n",
        "\tdef __displayPrivateMembers(self):\n",
        "\n",
        "\t\t# accessing protected data members\n",
        "\t\tprint(\"Protected Data Member: \", self.__var3)\n",
        "\n",
        "\t# public member function\n",
        "\tdef accessPrivateMembers(self):\n",
        "\n",
        "\t\t# accessing private member function\n",
        "\t\tself.__displayPrivateMembers()\n",
        "\n",
        "# derived class\n",
        "class Sub(Super):\n",
        "\n",
        "\t# constructor\n",
        "\tdef __init__(self, var1, var2, var3):\n",
        "\t\t\t\tSuper.__init__(self, var1, var2, var3)\n",
        "\n",
        "\t# public member function\n",
        "\tdef accessProtectedMembers(self):\n",
        "\n",
        "\t\t\t\t# accessing protected member functions of super class\n",
        "\t\t\t\tself._displayProtectedMembers()\n",
        "\n",
        "\n",
        "\n",
        "# creating objects of the derived class\n",
        "obj = Sub(\"Geeks\", 4, \"Geeks !\")\n",
        "\n",
        "# calling public member functions of the class\n",
        "obj.displayPublicMembers()\n",
        "obj.accessProtectedMembers()\n",
        "obj.accessPrivateMembers()\n",
        "#obj.__displayPrivateMembers()\n",
        "\n",
        "# Object can access protected member\n",
        "print(\"Object is accessing protected member:\", obj._var2)\n",
        "\n",
        "# object can not access private member, so it will generate Attribute error\n",
        "#print(obj.__var3)\n"
      ],
      "metadata": {
        "colab": {
          "base_uri": "https://localhost:8080/"
        },
        "id": "2_8v19otT2Gx",
        "outputId": "dc19a1b4-6b8e-404a-ffad-2b94e1187da8"
      },
      "execution_count": null,
      "outputs": [
        {
          "output_type": "stream",
          "name": "stdout",
          "text": [
            "Public Data Member:  Geeks\n",
            "Protected Data Member:  4\n",
            "Protected Data Member:  Geeks !\n",
            "Object is accessing protected member: 4\n"
          ]
        }
      ]
    },
    {
      "cell_type": "code",
      "source": [],
      "metadata": {
        "id": "beg-0fA71dI4"
      },
      "execution_count": null,
      "outputs": []
    }
  ],
  "metadata": {
    "hide_input": false,
    "kernelspec": {
      "display_name": "Python 3",
      "language": "python",
      "name": "python3"
    },
    "language_info": {
      "codemirror_mode": {
        "name": "ipython",
        "version": 3
      },
      "file_extension": ".py",
      "mimetype": "text/x-python",
      "name": "python",
      "nbconvert_exporter": "python",
      "pygments_lexer": "ipython3",
      "version": "3.8.3"
    },
    "toc": {
      "base_numbering": 1,
      "nav_menu": {},
      "number_sections": true,
      "sideBar": true,
      "skip_h1_title": false,
      "title_cell": "Table of Contents",
      "title_sidebar": "Contents",
      "toc_cell": false,
      "toc_position": {},
      "toc_section_display": true,
      "toc_window_display": false
    },
    "colab": {
      "provenance": []
    }
  },
  "nbformat": 4,
  "nbformat_minor": 0
}